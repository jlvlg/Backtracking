{
 "cells": [
  {
   "cell_type": "code",
   "execution_count": 1,
   "metadata": {},
   "outputs": [],
   "source": [
    "from backtracking import Backtracking"
   ]
  },
  {
   "cell_type": "code",
   "execution_count": 18,
   "metadata": {},
   "outputs": [
    {
     "name": "stdout",
     "output_type": "stream",
     "text": [
      "Archive:  entrada.zip\n",
      "  inflating: entrada/entrada_1.txt   \n",
      "  inflating: entrada/entrada_10.txt  \n",
      "  inflating: entrada/entrada_11.txt  \n",
      "  inflating: entrada/entrada_12.txt  \n",
      "  inflating: entrada/entrada_13.txt  \n",
      "  inflating: entrada/entrada_14.txt  \n",
      "  inflating: entrada/entrada_15.txt  \n",
      "  inflating: entrada/entrada_16.txt  \n",
      "  inflating: entrada/entrada_17.txt  \n",
      "  inflating: entrada/entrada_18.txt  \n",
      "  inflating: entrada/entrada_19.txt  \n",
      "  inflating: entrada/entrada_2.txt   \n",
      "  inflating: entrada/entrada_20.txt  \n",
      "  inflating: entrada/entrada_21.txt  \n",
      "  inflating: entrada/entrada_22.txt  \n",
      "  inflating: entrada/entrada_23.txt  \n",
      "  inflating: entrada/entrada_24.txt  \n",
      "  inflating: entrada/entrada_25.txt  \n",
      "  inflating: entrada/entrada_26.txt  \n",
      "  inflating: entrada/entrada_27.txt  \n",
      "  inflating: entrada/entrada_28.txt  \n",
      "  inflating: entrada/entrada_29.txt  \n",
      "  inflating: entrada/entrada_3.txt   \n",
      "  inflating: entrada/entrada_30.txt  \n",
      "  inflating: entrada/entrada_31.txt  \n",
      "  inflating: entrada/entrada_32.txt  \n",
      "  inflating: entrada/entrada_33.txt  \n",
      "  inflating: entrada/entrada_34.txt  \n",
      "  inflating: entrada/entrada_35.txt  \n",
      "  inflating: entrada/entrada_36.txt  \n",
      "  inflating: entrada/entrada_37.txt  \n",
      "  inflating: entrada/entrada_38.txt  \n",
      "  inflating: entrada/entrada_39.txt  \n",
      "  inflating: entrada/entrada_4.txt   \n",
      "  inflating: entrada/entrada_40.txt  \n",
      "  inflating: entrada/entrada_41.txt  \n",
      "  inflating: entrada/entrada_42.txt  \n",
      "  inflating: entrada/entrada_43.txt  \n",
      "  inflating: entrada/entrada_44.txt  \n",
      "  inflating: entrada/entrada_45.txt  \n",
      "  inflating: entrada/entrada_46.txt  \n",
      "  inflating: entrada/entrada_47.txt  \n",
      "  inflating: entrada/entrada_48.txt  \n",
      "  inflating: entrada/entrada_49.txt  \n",
      "  inflating: entrada/entrada_5.txt   \n",
      "  inflating: entrada/entrada_50.txt  \n",
      "  inflating: entrada/entrada_6.txt   \n",
      "  inflating: entrada/entrada_7.txt   \n",
      "  inflating: entrada/entrada_8.txt   \n",
      "  inflating: entrada/entrada_9.txt   \n"
     ]
    }
   ],
   "source": [
    "!rm -rf entrada saida/backtracking\n",
    "!unzip entrada.zip\n",
    "!mkdir -p saida/backtracking"
   ]
  },
  {
   "cell_type": "code",
   "execution_count": 25,
   "metadata": {},
   "outputs": [],
   "source": [
    "file = \"entrada_2\""
   ]
  },
  {
   "cell_type": "code",
   "execution_count": 26,
   "metadata": {},
   "outputs": [],
   "source": [
    "instance = Backtracking(f\"./entrada/{file}.txt\")\n",
    "result = instance.run()"
   ]
  },
  {
   "cell_type": "code",
   "execution_count": 27,
   "metadata": {},
   "outputs": [],
   "source": [
    "with open(f\"./saida/backtracking/{file}.txt\", \"w\") as f:\n",
    "    for equipment in result:\n",
    "        f.write(f\"{equipment}:-{'-'.join(result[equipment])}\\n\")"
   ]
  },
  {
   "cell_type": "code",
   "execution_count": 28,
   "metadata": {},
   "outputs": [
    {
     "name": "stderr",
     "output_type": "stream",
     "text": [
      "[0220/064603.053550:INFO:policy_logger.cc(144)] :components/policy/core/common/config_dir_policy_loader.cc(118) Skipping mandatory platform policies because no policy file was found at: /etc/opt/chrome/policies/managed\n",
      "[0220/064603.053597:INFO:policy_logger.cc(144)] :components/policy/core/common/config_dir_policy_loader.cc(118) Skipping recommended platform policies because no policy file was found at: /etc/opt/chrome/policies/recommended\n",
      "[0220/064603.061724:WARNING:bluez_dbus_manager.cc(248)] Floss manager not present, cannot set Floss enable/disable.\n",
      "[0220/064603.107872:WARNING:vaapi_wrapper.cc(1489)] Skipping nVidia device named: nvidia-drm\n",
      "[0220/064603.109266:WARNING:sandbox_linux.cc(418)] InitializeSandbox() called with multiple threads in process gpu-process.\n",
      "50954 bytes written to file /tmp/tmp4p8ln9rj/temp.png\n"
     ]
    }
   ],
   "source": [
    "import dataframe_image as dfi\n",
    "\n",
    "dfi.export(result, f\"./saida/backtracking/{file}.png\")"
   ]
  }
 ],
 "metadata": {
  "kernelspec": {
   "display_name": "Python 3",
   "language": "python",
   "name": "python3"
  },
  "language_info": {
   "codemirror_mode": {
    "name": "ipython",
    "version": 3
   },
   "file_extension": ".py",
   "mimetype": "text/x-python",
   "name": "python",
   "nbconvert_exporter": "python",
   "pygments_lexer": "ipython3",
   "version": "3.12.1"
  }
 },
 "nbformat": 4,
 "nbformat_minor": 2
}
